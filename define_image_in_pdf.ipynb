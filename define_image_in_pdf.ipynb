{
  "nbformat": 4,
  "nbformat_minor": 0,
  "metadata": {
    "colab": {
      "provenance": [],
      "mount_file_id": "1OxUxhL0eqWe7WSW8IxGEwqL1-JyI7IJ9",
      "authorship_tag": "ABX9TyMXe5Nem76+F80s7V+Ijv8v",
      "include_colab_link": true
    },
    "kernelspec": {
      "name": "python3",
      "display_name": "Python 3"
    },
    "language_info": {
      "name": "python"
    }
  },
  "cells": [
    {
      "cell_type": "markdown",
      "metadata": {
        "id": "view-in-github",
        "colab_type": "text"
      },
      "source": [
        "<a href=\"https://colab.research.google.com/github/NguyenThanhDat10012004/define_image_in_pdf/blob/main/define_image_in_pdf.ipynb\" target=\"_parent\"><img src=\"https://colab.research.google.com/assets/colab-badge.svg\" alt=\"Open In Colab\"/></a>"
      ]
    },
    {
      "cell_type": "code",
      "source": [
        "!apt-get install -y poppler-utils\n",
        "!pip install pdf2image\n",
        "!pip install pillow\n",
        "!pip install opencv-python\n"
      ],
      "metadata": {
        "colab": {
          "base_uri": "https://localhost:8080/"
        },
        "id": "hWh3nQpYfsRs",
        "outputId": "b797cb72-f002-48b7-c3e4-3ead02f83602"
      },
      "execution_count": 10,
      "outputs": [
        {
          "output_type": "stream",
          "name": "stdout",
          "text": [
            "Reading package lists... Done\n",
            "Building dependency tree... Done\n",
            "Reading state information... Done\n",
            "The following NEW packages will be installed:\n",
            "  poppler-utils\n",
            "0 upgraded, 1 newly installed, 0 to remove and 45 not upgraded.\n",
            "Need to get 186 kB of archives.\n",
            "After this operation, 696 kB of additional disk space will be used.\n",
            "Get:1 http://archive.ubuntu.com/ubuntu jammy-updates/main amd64 poppler-utils amd64 22.02.0-2ubuntu0.4 [186 kB]\n",
            "Fetched 186 kB in 0s (484 kB/s)\n",
            "Selecting previously unselected package poppler-utils.\n",
            "(Reading database ... 123576 files and directories currently installed.)\n",
            "Preparing to unpack .../poppler-utils_22.02.0-2ubuntu0.4_amd64.deb ...\n",
            "Unpacking poppler-utils (22.02.0-2ubuntu0.4) ...\n",
            "Setting up poppler-utils (22.02.0-2ubuntu0.4) ...\n",
            "Processing triggers for man-db (2.10.2-1) ...\n",
            "Requirement already satisfied: pdf2image in /usr/local/lib/python3.10/dist-packages (1.17.0)\n",
            "Requirement already satisfied: pillow in /usr/local/lib/python3.10/dist-packages (from pdf2image) (9.4.0)\n",
            "Requirement already satisfied: pillow in /usr/local/lib/python3.10/dist-packages (9.4.0)\n",
            "Requirement already satisfied: opencv-python in /usr/local/lib/python3.10/dist-packages (4.8.0.76)\n",
            "Requirement already satisfied: numpy>=1.21.2 in /usr/local/lib/python3.10/dist-packages (from opencv-python) (1.25.2)\n"
          ]
        }
      ]
    },
    {
      "cell_type": "code",
      "execution_count": 27,
      "metadata": {
        "colab": {
          "base_uri": "https://localhost:8080/",
          "height": 542
        },
        "id": "9iuIrf-BdFMb",
        "outputId": "5baebf81-2ee1-47f7-b2e5-24484aceb105"
      },
      "outputs": [
        {
          "output_type": "display_data",
          "data": {
            "text/html": [
              "<html>\n",
              "<head><meta charset=\"utf-8\" /></head>\n",
              "<body>\n",
              "    <div>            <script src=\"https://cdnjs.cloudflare.com/ajax/libs/mathjax/2.7.5/MathJax.js?config=TeX-AMS-MML_SVG\"></script><script type=\"text/javascript\">if (window.MathJax && window.MathJax.Hub && window.MathJax.Hub.Config) {window.MathJax.Hub.Config({SVG: {font: \"STIX-Web\"}});}</script>                <script type=\"text/javascript\">window.PlotlyConfig = {MathJaxConfig: 'local'};</script>\n",
              "        <script charset=\"utf-8\" src=\"https://cdn.plot.ly/plotly-2.24.1.min.js\"></script>                <div id=\"b44e0cfc-6845-47a8-9cc3-17c4cffc2738\" class=\"plotly-graph-div\" style=\"height:525px; width:100%;\"></div>            <script type=\"text/javascript\">                                    window.PLOTLYENV=window.PLOTLYENV || {};                                    if (document.getElementById(\"b44e0cfc-6845-47a8-9cc3-17c4cffc2738\")) {                    Plotly.newPlot(                        \"b44e0cfc-6845-47a8-9cc3-17c4cffc2738\",                        [{\"hoverinfo\":\"text\",\"mode\":\"markers+lines\",\"text\":[\"Page 1, Score: 297.0\",\"Page 2, Score: 266.0\",\"Page 3, Score: 291.0\",\"Page 4, Score: 298.0\",\"Page 5, Score: 239.0\",\"Page 6, Score: 259.0\",\"Page 7, Score: 238.0\",\"Page 8, Score: 250.0\",\"Page 9, Score: 199.0\",\"Page 10, Score: 222.0\",\"Page 11, Score: 199.0\",\"Page 12, Score: 272.0\",\"Page 13, Score: 229.0\",\"Page 14, Score: 236.0\",\"Page 15, Score: 247.0\",\"Page 16, Score: 229.0\",\"Page 17, Score: 279.0\",\"Page 18, Score: 301.0\",\"Page 19, Score: 325.0\",\"Page 20, Score: 338.0\",\"Page 21, Score: 310.0\",\"Page 22, Score: 298.0\",\"Page 23, Score: 308.0\",\"Page 24, Score: 290.0\",\"Page 25, Score: 228.0\",\"Page 26, Score: 227.0\",\"Page 27, Score: 197.0\",\"Page 28, Score: 192.0\",\"Page 29, Score: 212.0\",\"Page 30, Score: 214.0\",\"Page 31, Score: 215.0\",\"Page 32, Score: 212.0\",\"Page 33, Score: 200.0\",\"Page 34, Score: 205.0\",\"Page 35, Score: 224.0\",\"Page 36, Score: 227.0\",\"Page 37, Score: 305.0\",\"Page 38, Score: 243.0\",\"Page 39, Score: 249.0\",\"Page 40, Score: 245.0\",\"Page 41, Score: 251.0\",\"Page 42, Score: 288.0\",\"Page 43, Score: 278.0\",\"Page 44, Score: 273.0\",\"Page 45, Score: 314.0\",\"Page 46, Score: 353.0\",\"Page 47, Score: 299.0\",\"Page 48, Score: 281.0\",\"Page 49, Score: 307.0\",\"Page 50, Score: 254.0\",\"Page 51, Score: 324.0\",\"Page 52, Score: 313.0\",\"Page 53, Score: 323.0\",\"Page 54, Score: 288.0\",\"Page 55, Score: 304.0\",\"Page 56, Score: 287.0\",\"Page 57, Score: 222.0\",\"Page 58, Score: 201.0\",\"Page 59, Score: 261.0\",\"Page 60, Score: 266.0\",\"Page 61, Score: 285.0\",\"Page 62, Score: 280.0\",\"Page 63, Score: 248.0\",\"Page 64, Score: 284.0\",\"Page 65, Score: 289.0\",\"Page 66, Score: 289.0\",\"Page 67, Score: 233.0\",\"Page 68, Score: 225.0\",\"Page 69, Score: 260.0\",\"Page 70, Score: 223.0\",\"Page 71, Score: 251.0\",\"Page 72, Score: 251.0\",\"Page 73, Score: 501.0\",\"Page 74, Score: 307.0\",\"Page 75, Score: 312.0\",\"Page 76, Score: 341.0\",\"Page 77, Score: 305.0\",\"Page 78, Score: 338.0\",\"Page 79, Score: 336.0\",\"Page 80, Score: 309.0\",\"Page 81, Score: 367.0\",\"Page 82, Score: 338.0\",\"Page 83, Score: 305.0\"],\"x\":[1,2,3,4,5,6,7,8,9,10,11,12,13,14,15,16,17,18,19,20,21,22,23,24,25,26,27,28,29,30,31,32,33,34,35,36,37,38,39,40,41,42,43,44,45,46,47,48,49,50,51,52,53,54,55,56,57,58,59,60,61,62,63,64,65,66,67,68,69,70,71,72,73,74,75,76,77,78,79,80,81,82,83],\"y\":[297.0,266.0,291.0,298.0,239.0,259.0,238.0,250.0,199.0,222.0,199.0,272.0,229.0,236.0,247.0,229.0,279.0,301.0,325.0,338.0,310.0,298.0,308.0,290.0,228.0,227.0,197.0,192.0,212.0,214.0,215.0,212.0,200.0,205.0,224.0,227.0,305.0,243.0,249.0,245.0,251.0,288.0,278.0,273.0,314.0,353.0,299.0,281.0,307.0,254.0,324.0,313.0,323.0,288.0,304.0,287.0,222.0,201.0,261.0,266.0,285.0,280.0,248.0,284.0,289.0,289.0,233.0,225.0,260.0,223.0,251.0,251.0,501.0,307.0,312.0,341.0,305.0,338.0,336.0,309.0,367.0,338.0,305.0],\"type\":\"scatter\"}],                        {\"template\":{\"data\":{\"histogram2dcontour\":[{\"type\":\"histogram2dcontour\",\"colorbar\":{\"outlinewidth\":0,\"ticks\":\"\"},\"colorscale\":[[0.0,\"#0d0887\"],[0.1111111111111111,\"#46039f\"],[0.2222222222222222,\"#7201a8\"],[0.3333333333333333,\"#9c179e\"],[0.4444444444444444,\"#bd3786\"],[0.5555555555555556,\"#d8576b\"],[0.6666666666666666,\"#ed7953\"],[0.7777777777777778,\"#fb9f3a\"],[0.8888888888888888,\"#fdca26\"],[1.0,\"#f0f921\"]]}],\"choropleth\":[{\"type\":\"choropleth\",\"colorbar\":{\"outlinewidth\":0,\"ticks\":\"\"}}],\"histogram2d\":[{\"type\":\"histogram2d\",\"colorbar\":{\"outlinewidth\":0,\"ticks\":\"\"},\"colorscale\":[[0.0,\"#0d0887\"],[0.1111111111111111,\"#46039f\"],[0.2222222222222222,\"#7201a8\"],[0.3333333333333333,\"#9c179e\"],[0.4444444444444444,\"#bd3786\"],[0.5555555555555556,\"#d8576b\"],[0.6666666666666666,\"#ed7953\"],[0.7777777777777778,\"#fb9f3a\"],[0.8888888888888888,\"#fdca26\"],[1.0,\"#f0f921\"]]}],\"heatmap\":[{\"type\":\"heatmap\",\"colorbar\":{\"outlinewidth\":0,\"ticks\":\"\"},\"colorscale\":[[0.0,\"#0d0887\"],[0.1111111111111111,\"#46039f\"],[0.2222222222222222,\"#7201a8\"],[0.3333333333333333,\"#9c179e\"],[0.4444444444444444,\"#bd3786\"],[0.5555555555555556,\"#d8576b\"],[0.6666666666666666,\"#ed7953\"],[0.7777777777777778,\"#fb9f3a\"],[0.8888888888888888,\"#fdca26\"],[1.0,\"#f0f921\"]]}],\"heatmapgl\":[{\"type\":\"heatmapgl\",\"colorbar\":{\"outlinewidth\":0,\"ticks\":\"\"},\"colorscale\":[[0.0,\"#0d0887\"],[0.1111111111111111,\"#46039f\"],[0.2222222222222222,\"#7201a8\"],[0.3333333333333333,\"#9c179e\"],[0.4444444444444444,\"#bd3786\"],[0.5555555555555556,\"#d8576b\"],[0.6666666666666666,\"#ed7953\"],[0.7777777777777778,\"#fb9f3a\"],[0.8888888888888888,\"#fdca26\"],[1.0,\"#f0f921\"]]}],\"contourcarpet\":[{\"type\":\"contourcarpet\",\"colorbar\":{\"outlinewidth\":0,\"ticks\":\"\"}}],\"contour\":[{\"type\":\"contour\",\"colorbar\":{\"outlinewidth\":0,\"ticks\":\"\"},\"colorscale\":[[0.0,\"#0d0887\"],[0.1111111111111111,\"#46039f\"],[0.2222222222222222,\"#7201a8\"],[0.3333333333333333,\"#9c179e\"],[0.4444444444444444,\"#bd3786\"],[0.5555555555555556,\"#d8576b\"],[0.6666666666666666,\"#ed7953\"],[0.7777777777777778,\"#fb9f3a\"],[0.8888888888888888,\"#fdca26\"],[1.0,\"#f0f921\"]]}],\"surface\":[{\"type\":\"surface\",\"colorbar\":{\"outlinewidth\":0,\"ticks\":\"\"},\"colorscale\":[[0.0,\"#0d0887\"],[0.1111111111111111,\"#46039f\"],[0.2222222222222222,\"#7201a8\"],[0.3333333333333333,\"#9c179e\"],[0.4444444444444444,\"#bd3786\"],[0.5555555555555556,\"#d8576b\"],[0.6666666666666666,\"#ed7953\"],[0.7777777777777778,\"#fb9f3a\"],[0.8888888888888888,\"#fdca26\"],[1.0,\"#f0f921\"]]}],\"mesh3d\":[{\"type\":\"mesh3d\",\"colorbar\":{\"outlinewidth\":0,\"ticks\":\"\"}}],\"scatter\":[{\"fillpattern\":{\"fillmode\":\"overlay\",\"size\":10,\"solidity\":0.2},\"type\":\"scatter\"}],\"parcoords\":[{\"type\":\"parcoords\",\"line\":{\"colorbar\":{\"outlinewidth\":0,\"ticks\":\"\"}}}],\"scatterpolargl\":[{\"type\":\"scatterpolargl\",\"marker\":{\"colorbar\":{\"outlinewidth\":0,\"ticks\":\"\"}}}],\"bar\":[{\"error_x\":{\"color\":\"#2a3f5f\"},\"error_y\":{\"color\":\"#2a3f5f\"},\"marker\":{\"line\":{\"color\":\"#E5ECF6\",\"width\":0.5},\"pattern\":{\"fillmode\":\"overlay\",\"size\":10,\"solidity\":0.2}},\"type\":\"bar\"}],\"scattergeo\":[{\"type\":\"scattergeo\",\"marker\":{\"colorbar\":{\"outlinewidth\":0,\"ticks\":\"\"}}}],\"scatterpolar\":[{\"type\":\"scatterpolar\",\"marker\":{\"colorbar\":{\"outlinewidth\":0,\"ticks\":\"\"}}}],\"histogram\":[{\"marker\":{\"pattern\":{\"fillmode\":\"overlay\",\"size\":10,\"solidity\":0.2}},\"type\":\"histogram\"}],\"scattergl\":[{\"type\":\"scattergl\",\"marker\":{\"colorbar\":{\"outlinewidth\":0,\"ticks\":\"\"}}}],\"scatter3d\":[{\"type\":\"scatter3d\",\"line\":{\"colorbar\":{\"outlinewidth\":0,\"ticks\":\"\"}},\"marker\":{\"colorbar\":{\"outlinewidth\":0,\"ticks\":\"\"}}}],\"scattermapbox\":[{\"type\":\"scattermapbox\",\"marker\":{\"colorbar\":{\"outlinewidth\":0,\"ticks\":\"\"}}}],\"scatterternary\":[{\"type\":\"scatterternary\",\"marker\":{\"colorbar\":{\"outlinewidth\":0,\"ticks\":\"\"}}}],\"scattercarpet\":[{\"type\":\"scattercarpet\",\"marker\":{\"colorbar\":{\"outlinewidth\":0,\"ticks\":\"\"}}}],\"carpet\":[{\"aaxis\":{\"endlinecolor\":\"#2a3f5f\",\"gridcolor\":\"white\",\"linecolor\":\"white\",\"minorgridcolor\":\"white\",\"startlinecolor\":\"#2a3f5f\"},\"baxis\":{\"endlinecolor\":\"#2a3f5f\",\"gridcolor\":\"white\",\"linecolor\":\"white\",\"minorgridcolor\":\"white\",\"startlinecolor\":\"#2a3f5f\"},\"type\":\"carpet\"}],\"table\":[{\"cells\":{\"fill\":{\"color\":\"#EBF0F8\"},\"line\":{\"color\":\"white\"}},\"header\":{\"fill\":{\"color\":\"#C8D4E3\"},\"line\":{\"color\":\"white\"}},\"type\":\"table\"}],\"barpolar\":[{\"marker\":{\"line\":{\"color\":\"#E5ECF6\",\"width\":0.5},\"pattern\":{\"fillmode\":\"overlay\",\"size\":10,\"solidity\":0.2}},\"type\":\"barpolar\"}],\"pie\":[{\"automargin\":true,\"type\":\"pie\"}]},\"layout\":{\"autotypenumbers\":\"strict\",\"colorway\":[\"#636efa\",\"#EF553B\",\"#00cc96\",\"#ab63fa\",\"#FFA15A\",\"#19d3f3\",\"#FF6692\",\"#B6E880\",\"#FF97FF\",\"#FECB52\"],\"font\":{\"color\":\"#2a3f5f\"},\"hovermode\":\"closest\",\"hoverlabel\":{\"align\":\"left\"},\"paper_bgcolor\":\"white\",\"plot_bgcolor\":\"#E5ECF6\",\"polar\":{\"bgcolor\":\"#E5ECF6\",\"angularaxis\":{\"gridcolor\":\"white\",\"linecolor\":\"white\",\"ticks\":\"\"},\"radialaxis\":{\"gridcolor\":\"white\",\"linecolor\":\"white\",\"ticks\":\"\"}},\"ternary\":{\"bgcolor\":\"#E5ECF6\",\"aaxis\":{\"gridcolor\":\"white\",\"linecolor\":\"white\",\"ticks\":\"\"},\"baxis\":{\"gridcolor\":\"white\",\"linecolor\":\"white\",\"ticks\":\"\"},\"caxis\":{\"gridcolor\":\"white\",\"linecolor\":\"white\",\"ticks\":\"\"}},\"coloraxis\":{\"colorbar\":{\"outlinewidth\":0,\"ticks\":\"\"}},\"colorscale\":{\"sequential\":[[0.0,\"#0d0887\"],[0.1111111111111111,\"#46039f\"],[0.2222222222222222,\"#7201a8\"],[0.3333333333333333,\"#9c179e\"],[0.4444444444444444,\"#bd3786\"],[0.5555555555555556,\"#d8576b\"],[0.6666666666666666,\"#ed7953\"],[0.7777777777777778,\"#fb9f3a\"],[0.8888888888888888,\"#fdca26\"],[1.0,\"#f0f921\"]],\"sequentialminus\":[[0.0,\"#0d0887\"],[0.1111111111111111,\"#46039f\"],[0.2222222222222222,\"#7201a8\"],[0.3333333333333333,\"#9c179e\"],[0.4444444444444444,\"#bd3786\"],[0.5555555555555556,\"#d8576b\"],[0.6666666666666666,\"#ed7953\"],[0.7777777777777778,\"#fb9f3a\"],[0.8888888888888888,\"#fdca26\"],[1.0,\"#f0f921\"]],\"diverging\":[[0,\"#8e0152\"],[0.1,\"#c51b7d\"],[0.2,\"#de77ae\"],[0.3,\"#f1b6da\"],[0.4,\"#fde0ef\"],[0.5,\"#f7f7f7\"],[0.6,\"#e6f5d0\"],[0.7,\"#b8e186\"],[0.8,\"#7fbc41\"],[0.9,\"#4d9221\"],[1,\"#276419\"]]},\"xaxis\":{\"gridcolor\":\"white\",\"linecolor\":\"white\",\"ticks\":\"\",\"title\":{\"standoff\":15},\"zerolinecolor\":\"white\",\"automargin\":true,\"zerolinewidth\":2},\"yaxis\":{\"gridcolor\":\"white\",\"linecolor\":\"white\",\"ticks\":\"\",\"title\":{\"standoff\":15},\"zerolinecolor\":\"white\",\"automargin\":true,\"zerolinewidth\":2},\"scene\":{\"xaxis\":{\"backgroundcolor\":\"#E5ECF6\",\"gridcolor\":\"white\",\"linecolor\":\"white\",\"showbackground\":true,\"ticks\":\"\",\"zerolinecolor\":\"white\",\"gridwidth\":2},\"yaxis\":{\"backgroundcolor\":\"#E5ECF6\",\"gridcolor\":\"white\",\"linecolor\":\"white\",\"showbackground\":true,\"ticks\":\"\",\"zerolinecolor\":\"white\",\"gridwidth\":2},\"zaxis\":{\"backgroundcolor\":\"#E5ECF6\",\"gridcolor\":\"white\",\"linecolor\":\"white\",\"showbackground\":true,\"ticks\":\"\",\"zerolinecolor\":\"white\",\"gridwidth\":2}},\"shapedefaults\":{\"line\":{\"color\":\"#2a3f5f\"}},\"annotationdefaults\":{\"arrowcolor\":\"#2a3f5f\",\"arrowhead\":0,\"arrowwidth\":1},\"geo\":{\"bgcolor\":\"white\",\"landcolor\":\"#E5ECF6\",\"subunitcolor\":\"white\",\"showland\":true,\"showlakes\":true,\"lakecolor\":\"white\"},\"title\":{\"x\":0.05},\"mapbox\":{\"style\":\"light\"}}},\"title\":{\"text\":\"Matching Score for Each Page in PDF\"},\"xaxis\":{\"title\":{\"text\":\"Page Number\"}},\"yaxis\":{\"title\":{\"text\":\"Matching Score\"}}},                        {\"responsive\": true}                    ).then(function(){\n",
              "                            \n",
              "var gd = document.getElementById('b44e0cfc-6845-47a8-9cc3-17c4cffc2738');\n",
              "var x = new MutationObserver(function (mutations, observer) {{\n",
              "        var display = window.getComputedStyle(gd).display;\n",
              "        if (!display || display === 'none') {{\n",
              "            console.log([gd, 'removed!']);\n",
              "            Plotly.purge(gd);\n",
              "            observer.disconnect();\n",
              "        }}\n",
              "}});\n",
              "\n",
              "// Listen for the removal of the full notebook cells\n",
              "var notebookContainer = gd.closest('#notebook-container');\n",
              "if (notebookContainer) {{\n",
              "    x.observe(notebookContainer, {childList: true});\n",
              "}}\n",
              "\n",
              "// Listen for the clearing of the current output cell\n",
              "var outputEl = gd.closest('.output');\n",
              "if (outputEl) {{\n",
              "    x.observe(outputEl, {childList: true});\n",
              "}}\n",
              "\n",
              "                        })                };                            </script>        </div>\n",
              "</body>\n",
              "</html>"
            ]
          },
          "metadata": {}
        }
      ],
      "source": [
        "import cv2\n",
        "import numpy as np\n",
        "from pdf2image import convert_from_path\n",
        "from PIL import Image\n",
        "import plotly.graph_objects as go\n",
        "from concurrent.futures import ThreadPoolExecutor\n",
        "\n",
        "# Đường dẫn đến file PDF và hình ảnh cần tìm\n",
        "pdf_path = '/content/Ngan hang cau hoi.pdf'  # Thay thế bằng đường dẫn thực tế\n",
        "image_path = '/content/450240745_1668955677201051_6240235972198132789_n.png'  # Thay thế bằng đường dẫn thực tế\n",
        "\n",
        "# Chuyển đổi các trang PDF thành hình ảnh\n",
        "pages = convert_from_path(pdf_path, 100)  # Giảm độ phân giải xuống 100 DPI\n",
        "\n",
        "# Đọc hình ảnh cần tìm\n",
        "query_image = Image.open(image_path)\n",
        "query_image = query_image.resize((query_image.width // 2, query_image.height // 2))  # Giảm độ phân giải hình ảnh cần tìm\n",
        "\n",
        "# Hàm trích xuất đặc trưng từ hình ảnh sử dụng ORB và SIFT\n",
        "def extract_features(image):\n",
        "    gray = cv2.cvtColor(np.array(image), cv2.COLOR_BGR2GRAY)\n",
        "    # ORB\n",
        "    orb = cv2.ORB_create()\n",
        "    orb_keypoints, orb_descriptors = orb.detectAndCompute(gray, None)\n",
        "    # SIFT\n",
        "    sift = cv2.SIFT_create()\n",
        "    sift_keypoints, sift_descriptors = sift.detectAndCompute(gray, None)\n",
        "    return (orb_keypoints, orb_descriptors), (sift_keypoints, sift_descriptors)\n",
        "\n",
        "# Trích xuất đặc trưng từ hình ảnh cần tìm\n",
        "(orb_query_keypoints, orb_query_descriptors), (sift_query_keypoints, sift_query_descriptors) = extract_features(np.array(query_image))\n",
        "\n",
        "# Hàm so sánh đặc trưng và tính toán độ khớp sử dụng ORB và SIFT\n",
        "def match_features(page_index, page_image):\n",
        "    (orb_page_keypoints, orb_page_descriptors), (sift_page_keypoints, sift_page_descriptors) = extract_features(np.array(page_image))\n",
        "\n",
        "    bf_orb = cv2.BFMatcher(cv2.NORM_HAMMING, crossCheck=True)\n",
        "    matches_orb = bf_orb.match(orb_query_descriptors, orb_page_descriptors)\n",
        "    matches_orb = sorted(matches_orb, key=lambda x: x.distance)\n",
        "\n",
        "    bf_sift = cv2.BFMatcher(cv2.NORM_L2, crossCheck=True)\n",
        "    matches_sift = bf_sift.match(sift_query_descriptors, sift_page_descriptors)\n",
        "    matches_sift = sorted(matches_sift, key=lambda x: x.distance)\n",
        "\n",
        "    # Kết hợp độ khớp của ORB và SIFT\n",
        "    score = len(matches_orb) + len(matches_sift)\n",
        "\n",
        "    # Sử dụng RANSAC để xác định tính đúng đắn của các điểm khớp\n",
        "    if len(matches_orb) > 10 and len(matches_sift) > 10:\n",
        "        src_pts_orb = np.float32([orb_query_keypoints[m.queryIdx].pt for m in matches_orb]).reshape(-1, 1, 2)\n",
        "        dst_pts_orb = np.float32([orb_page_keypoints[m.trainIdx].pt for m in matches_orb]).reshape(-1, 1, 2)\n",
        "        M_orb, mask_orb = cv2.findHomography(src_pts_orb, dst_pts_orb, cv2.RANSAC, 5.0)\n",
        "\n",
        "        src_pts_sift = np.float32([sift_query_keypoints[m.queryIdx].pt for m in matches_sift]).reshape(-1, 1, 2)\n",
        "        dst_pts_sift = np.float32([sift_page_keypoints[m.trainIdx].pt for m in matches_sift]).reshape(-1, 1, 2)\n",
        "        M_sift, mask_sift = cv2.findHomography(src_pts_sift, dst_pts_sift, cv2.RANSAC, 5.0)\n",
        "\n",
        "        if M_orb is not None and M_sift is not None:\n",
        "            score += np.sum(mask_orb) + np.sum(mask_sift)\n",
        "\n",
        "    return page_index, score\n",
        "\n",
        "# Sử dụng xử lý song song để tăng tốc độ tìm kiếm\n",
        "with ThreadPoolExecutor() as executor:\n",
        "    results = list(executor.map(lambda i: match_features(i, pages[i]), range(len(pages))))\n",
        "\n",
        "# Tạo danh sách độ khớp\n",
        "matching_scores = [(page_index + 1, score) for page_index, score in results]\n",
        "\n",
        "# Tạo biểu đồ tương tác với Plotly\n",
        "pages, scores = zip(*matching_scores)\n",
        "fig = go.Figure(data=go.Scatter(x=pages, y=scores, mode='markers+lines', text=[f'Page {p}, Score: {s}' for p, s in zip(pages, scores)], hoverinfo='text'))\n",
        "fig.update_layout(title='Matching Score for Each Page in PDF',\n",
        "                   xaxis_title='Page Number',\n",
        "                   yaxis_title='Matching Score')\n",
        "fig.show()\n"
      ]
    }
  ]
}